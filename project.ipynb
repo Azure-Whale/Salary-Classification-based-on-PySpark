{
 "cells": [
  {
   "cell_type": "code",
   "execution_count": 28,
   "metadata": {},
   "outputs": [],
   "source": [
    "import pandas as pd\n",
    "import numpy as np\n"
   ]
  },
  {
   "cell_type": "code",
   "execution_count": 29,
   "metadata": {},
   "outputs": [],
   "source": [
    "columns = [\"age\", \"workClass\", \"fnlwgt\", \"education\", \"education-num\",\"marital-status\", \"occupation\", \"relationship\",\n",
    "          \"race\", \"sex\", \"capital-gain\", \"capital-loss\", \"hours-per-week\", \"native-country\", \"income\"]"
   ]
  },
  {
   "cell_type": "code",
   "execution_count": 30,
   "metadata": {},
   "outputs": [
    {
     "name": "stderr",
     "output_type": "stream",
     "text": [
      "F:\\programming\\Anaconda\\lib\\site-packages\\ipykernel_launcher.py:2: ParserWarning: Falling back to the 'python' engine because the 'c' engine does not support regex separators (separators > 1 char and different from '\\s+' are interpreted as regex); you can avoid this warning by specifying engine='python'.\n",
      "  \n",
      "F:\\programming\\Anaconda\\lib\\site-packages\\ipykernel_launcher.py:4: ParserWarning: Falling back to the 'python' engine because the 'c' engine does not support regex separators (separators > 1 char and different from '\\s+' are interpreted as regex); you can avoid this warning by specifying engine='python'.\n",
      "  after removing the cwd from sys.path.\n"
     ]
    }
   ],
   "source": [
    "train_data = pd.read_csv('data/adult.data', names=columns, \n",
    "             sep=' *, *', na_values='?')\n",
    "test_data  = pd.read_csv('data/adult.test', names=columns, \n",
    "             sep=' *, *', skiprows=1, na_values='?')"
   ]
  },
  {
   "cell_type": "code",
   "execution_count": 31,
   "metadata": {},
   "outputs": [
    {
     "name": "stdout",
     "output_type": "stream",
     "text": [
      "<class 'pandas.core.frame.DataFrame'>\n",
      "RangeIndex: 32561 entries, 0 to 32560\n",
      "Data columns (total 15 columns):\n",
      "age               32561 non-null int64\n",
      "workClass         30725 non-null object\n",
      "fnlwgt            32561 non-null int64\n",
      "education         32561 non-null object\n",
      "education-num     32561 non-null int64\n",
      "marital-status    32561 non-null object\n",
      "occupation        30718 non-null object\n",
      "relationship      32561 non-null object\n",
      "race              32561 non-null object\n",
      "sex               32561 non-null object\n",
      "capital-gain      32561 non-null int64\n",
      "capital-loss      32561 non-null int64\n",
      "hours-per-week    32561 non-null int64\n",
      "native-country    31978 non-null object\n",
      "income            32561 non-null object\n",
      "dtypes: int64(6), object(9)\n",
      "memory usage: 3.7+ MB\n",
      "<class 'pandas.core.frame.DataFrame'>\n",
      "RangeIndex: 16281 entries, 0 to 16280\n",
      "Data columns (total 15 columns):\n",
      "age               16281 non-null int64\n",
      "workClass         15318 non-null object\n",
      "fnlwgt            16281 non-null int64\n",
      "education         16281 non-null object\n",
      "education-num     16281 non-null int64\n",
      "marital-status    16281 non-null object\n",
      "occupation        15315 non-null object\n",
      "relationship      16281 non-null object\n",
      "race              16281 non-null object\n",
      "sex               16281 non-null object\n",
      "capital-gain      16281 non-null int64\n",
      "capital-loss      16281 non-null int64\n",
      "hours-per-week    16281 non-null int64\n",
      "native-country    16007 non-null object\n",
      "income            16281 non-null object\n",
      "dtypes: int64(6), object(9)\n",
      "memory usage: 1.9+ MB\n",
      "None None\n"
     ]
    }
   ],
   "source": [
    "print(train_data.info(),test_data.info())"
   ]
  },
  {
   "cell_type": "code",
   "execution_count": 32,
   "metadata": {},
   "outputs": [],
   "source": [
    "fill_mode = lambda col: col.fillna(col.mode())\n",
    "#train_data = train_data.apply(fill_mode, axis=0)\n",
    "#print(train_data['income'].mode())  Note that mode() basiclly return a Series instead of a simple value, use index\n",
    "for column in train_data.columns:\n",
    "    train_data[column].fillna(train_data[column].mode()[0], inplace=True)\n",
    "for column in test_data.columns:\n",
    "    test_data[column].fillna(test_data[column].mode()[0], inplace=True)\n",
    "#test_data = test_data.apply(fill_mode, axis=0)"
   ]
  },
  {
   "cell_type": "code",
   "execution_count": 33,
   "metadata": {},
   "outputs": [
    {
     "name": "stdout",
     "output_type": "stream",
     "text": [
      "<class 'pandas.core.frame.DataFrame'>\n",
      "RangeIndex: 32561 entries, 0 to 32560\n",
      "Data columns (total 15 columns):\n",
      "age               32561 non-null int64\n",
      "workClass         32561 non-null object\n",
      "fnlwgt            32561 non-null int64\n",
      "education         32561 non-null object\n",
      "education-num     32561 non-null int64\n",
      "marital-status    32561 non-null object\n",
      "occupation        32561 non-null object\n",
      "relationship      32561 non-null object\n",
      "race              32561 non-null object\n",
      "sex               32561 non-null object\n",
      "capital-gain      32561 non-null int64\n",
      "capital-loss      32561 non-null int64\n",
      "hours-per-week    32561 non-null int64\n",
      "native-country    32561 non-null object\n",
      "income            32561 non-null object\n",
      "dtypes: int64(6), object(9)\n",
      "memory usage: 3.7+ MB\n",
      "<class 'pandas.core.frame.DataFrame'>\n",
      "RangeIndex: 16281 entries, 0 to 16280\n",
      "Data columns (total 15 columns):\n",
      "age               16281 non-null int64\n",
      "workClass         16281 non-null object\n",
      "fnlwgt            16281 non-null int64\n",
      "education         16281 non-null object\n",
      "education-num     16281 non-null int64\n",
      "marital-status    16281 non-null object\n",
      "occupation        16281 non-null object\n",
      "relationship      16281 non-null object\n",
      "race              16281 non-null object\n",
      "sex               16281 non-null object\n",
      "capital-gain      16281 non-null int64\n",
      "capital-loss      16281 non-null int64\n",
      "hours-per-week    16281 non-null int64\n",
      "native-country    16281 non-null object\n",
      "income            16281 non-null object\n",
      "dtypes: int64(6), object(9)\n",
      "memory usage: 1.9+ MB\n",
      "None None\n"
     ]
    }
   ],
   "source": [
    "print(train_data.info(),test_data.info())"
   ]
  },
  {
   "cell_type": "code",
   "execution_count": 34,
   "metadata": {},
   "outputs": [],
   "source": [
    "num_attributes = train_data.select_dtypes(include=['int64'])\n",
    "num_attributes = num_attributes.columns\n",
    "cat_attributes = train_data.select_dtypes(include=['object'])\n",
    "cat_attributes = cat_attributes.columns\n"
   ]
  },
  {
   "cell_type": "code",
   "execution_count": 35,
   "metadata": {},
   "outputs": [
    {
     "name": "stdout",
     "output_type": "stream",
     "text": [
      "       age     workClass  fnlwgt     education  education-num  \\\n",
      "0       25       Private  226802          11th              7   \n",
      "1       38       Private   89814       HS-grad              9   \n",
      "2       28     Local-gov  336951    Assoc-acdm             12   \n",
      "3       44       Private  160323  Some-college             10   \n",
      "4       18       Private  103497  Some-college             10   \n",
      "...    ...           ...     ...           ...            ...   \n",
      "16276   39       Private  215419     Bachelors             13   \n",
      "16277   64       Private  321403       HS-grad              9   \n",
      "16278   38       Private  374983     Bachelors             13   \n",
      "16279   44       Private   83891     Bachelors             13   \n",
      "16280   35  Self-emp-inc  182148     Bachelors             13   \n",
      "\n",
      "           marital-status         occupation    relationship  \\\n",
      "0           Never-married  Machine-op-inspct       Own-child   \n",
      "1      Married-civ-spouse    Farming-fishing         Husband   \n",
      "2      Married-civ-spouse    Protective-serv         Husband   \n",
      "3      Married-civ-spouse  Machine-op-inspct         Husband   \n",
      "4           Never-married     Prof-specialty       Own-child   \n",
      "...                   ...                ...             ...   \n",
      "16276            Divorced     Prof-specialty   Not-in-family   \n",
      "16277             Widowed     Prof-specialty  Other-relative   \n",
      "16278  Married-civ-spouse     Prof-specialty         Husband   \n",
      "16279            Divorced       Adm-clerical       Own-child   \n",
      "16280  Married-civ-spouse    Exec-managerial         Husband   \n",
      "\n",
      "                     race     sex  capital-gain  capital-loss  hours-per-week  \\\n",
      "0                   Black    Male             0             0              40   \n",
      "1                   White    Male             0             0              50   \n",
      "2                   White    Male             0             0              40   \n",
      "3                   Black    Male          7688             0              40   \n",
      "4                   White  Female             0             0              30   \n",
      "...                   ...     ...           ...           ...             ...   \n",
      "16276               White  Female             0             0              36   \n",
      "16277               Black    Male             0             0              40   \n",
      "16278               White    Male             0             0              50   \n",
      "16279  Asian-Pac-Islander    Male          5455             0              40   \n",
      "16280               White    Male             0             0              60   \n",
      "\n",
      "      native-country income  \n",
      "0      United-States  <=50K  \n",
      "1      United-States  <=50K  \n",
      "2      United-States   >50K  \n",
      "3      United-States   >50K  \n",
      "4      United-States  <=50K  \n",
      "...              ...    ...  \n",
      "16276  United-States  <=50K  \n",
      "16277  United-States  <=50K  \n",
      "16278  United-States  <=50K  \n",
      "16279  United-States  <=50K  \n",
      "16280  United-States   >50K  \n",
      "\n",
      "[16281 rows x 15 columns]\n"
     ]
    }
   ],
   "source": [
    "test_data['income'] = test_data['income'].str.replace('.','')\n",
    "print(test_data)"
   ]
  },
  {
   "cell_type": "markdown",
   "metadata": {},
   "source": [
    "# Preprocessing"
   ]
  },
  {
   "cell_type": "code",
   "execution_count": 36,
   "metadata": {},
   "outputs": [
    {
     "name": "stdout",
     "output_type": "stream",
     "text": [
      "Index(['age', 'fnlwgt', 'education-num', 'capital-gain', 'capital-loss',\n",
      "       'hours-per-week'],\n",
      "      dtype='object')\n",
      "            age    fnlwgt  education-num  capital-gain  capital-loss  \\\n",
      "0      0.025996 -1.061979       1.136512      0.146932     -0.217127   \n",
      "1      0.828308 -1.007104       1.136512     -0.144804     -0.217127   \n",
      "2     -0.046942  0.246034      -0.419335     -0.144804     -0.217127   \n",
      "3      1.047121  0.426663      -1.197259     -0.144804     -0.217127   \n",
      "4     -0.776316  1.408530       1.136512     -0.144804     -0.217127   \n",
      "...         ...       ...            ...           ...           ...   \n",
      "16276  0.025996  0.243884       1.136512     -0.144804     -0.217127   \n",
      "16277  1.849433  1.247492      -0.419335     -0.144804     -0.217127   \n",
      "16278 -0.046942  1.754865       1.136512     -0.144804     -0.217127   \n",
      "16279  0.390683 -1.001612       1.136512      0.587220     -0.217127   \n",
      "16280 -0.265754 -0.071174       1.136512     -0.144804     -0.217127   \n",
      "\n",
      "       hours-per-week  \n",
      "0           -0.034087  \n",
      "1           -2.213032  \n",
      "2           -0.034087  \n",
      "3           -0.034087  \n",
      "4           -0.034087  \n",
      "...               ...  \n",
      "16276       -0.356894  \n",
      "16277       -0.034087  \n",
      "16278        0.772930  \n",
      "16279       -0.034087  \n",
      "16280        1.579946  \n",
      "\n",
      "[48842 rows x 6 columns]\n",
      "            age  workClass    fnlwgt  education  education-num  \\\n",
      "0      0.025996          6 -1.061979          9       1.136512   \n",
      "1      0.828308          5 -1.007104          9       1.136512   \n",
      "2     -0.046942          3  0.246034         11      -0.419335   \n",
      "3      1.047121          3  0.426663          1      -1.197259   \n",
      "4     -0.776316          3  1.408530          9       1.136512   \n",
      "...         ...        ...       ...        ...            ...   \n",
      "32556 -0.849254          3  0.640492          7       0.747550   \n",
      "32557  0.098933          3 -0.334178         11      -0.419335   \n",
      "32558  1.411808          3 -0.357510         11      -0.419335   \n",
      "32559 -1.213941          3  0.111984         11      -0.419335   \n",
      "32560  0.974183          4  0.930494         11      -0.419335   \n",
      "\n",
      "       marital-status  occupation  relationship  race  sex  capital-gain  \\\n",
      "0                   4           0             1     4    1      0.146932   \n",
      "1                   2           3             0     4    1     -0.144804   \n",
      "2                   0           5             1     4    1     -0.144804   \n",
      "3                   2           5             0     2    1     -0.144804   \n",
      "4                   2           9             5     2    0     -0.144804   \n",
      "...               ...         ...           ...   ...  ...           ...   \n",
      "32556               2          12             5     4    0     -0.144804   \n",
      "32557               2           6             0     4    1     -0.144804   \n",
      "32558               6           0             4     4    0     -0.144804   \n",
      "32559               4           0             3     4    1     -0.144804   \n",
      "32560               2           3             5     4    0      1.871315   \n",
      "\n",
      "       capital-loss  hours-per-week  native-country  income  \n",
      "0         -0.217127       -0.034087              38       0  \n",
      "1         -0.217127       -2.213032              38       0  \n",
      "2         -0.217127       -0.034087              38       0  \n",
      "3         -0.217127       -0.034087              38       0  \n",
      "4         -0.217127       -0.034087               4       0  \n",
      "...             ...             ...             ...     ...  \n",
      "32556     -0.217127       -0.195490              38       0  \n",
      "32557     -0.217127       -0.034087              38       1  \n",
      "32558     -0.217127       -0.034087              38       0  \n",
      "32559     -0.217127       -1.648120              38       0  \n",
      "32560     -0.217127       -0.034087              38       1  \n",
      "\n",
      "[32561 rows x 15 columns]\n"
     ]
    }
   ],
   "source": [
    "from sklearn import preprocessing\n",
    "from sklearn.preprocessing import StandardScaler\n",
    "le = preprocessing.LabelEncoder()\n",
    "scaler = StandardScaler()\n",
    "\n",
    "total_data = pd.concat([train_data,test_data])\n",
    "for col in cat_attributes:\n",
    "    le.fit(total_data[col])\n",
    "    total_data[col] = le.transform(total_data[col])\n",
    "\n",
    "scaler.fit(total_data[num_attributes])\n",
    "total_data[num_attributes] = scaler.transform(total_data[num_attributes])\n",
    "\n",
    "train_data = total_data[:len(train_data)]\n",
    "test_data = total_data[len(train_data):]\n",
    "\n",
    "print(num_attributes)\n",
    "print(total_data[num_attributes])\n",
    "\n",
    "\n",
    "print(train_data)\n",
    "\n",
    "    "
   ]
  },
  {
   "cell_type": "code",
   "execution_count": 37,
   "metadata": {},
   "outputs": [],
   "source": [
    "train_data_X = train_data.iloc[:,:-1]\n",
    "train_data_Y = train_data.iloc[:,-1]\n",
    "test_data_X = test_data.iloc[:,:-1]\n",
    "test_data_Y = test_data.iloc[:,-1]\n",
    "#train_data_Y = train_data.drop(train_data[:][-1], axis=1)"
   ]
  },
  {
   "cell_type": "code",
   "execution_count": 38,
   "metadata": {},
   "outputs": [
    {
     "name": "stderr",
     "output_type": "stream",
     "text": [
      "F:\\programming\\Anaconda\\lib\\site-packages\\sklearn\\linear_model\\logistic.py:432: FutureWarning: Default solver will be changed to 'lbfgs' in 0.22. Specify a solver to silence this warning.\n",
      "  FutureWarning)\n"
     ]
    }
   ],
   "source": [
    "from sklearn.linear_model import LogisticRegression\n",
    "clf = LogisticRegression(random_state=0).fit(train_data_X, train_data_Y)\n",
    "R = clf.predict(train_data_X)"
   ]
  },
  {
   "cell_type": "code",
   "execution_count": 39,
   "metadata": {},
   "outputs": [],
   "source": [
    "train_accuracy = clf.score(train_data_X, train_data_Y)"
   ]
  },
  {
   "cell_type": "code",
   "execution_count": 40,
   "metadata": {},
   "outputs": [],
   "source": [
    "test_accuracy = clf.score(test_data_X, test_data_Y)"
   ]
  },
  {
   "cell_type": "code",
   "execution_count": 41,
   "metadata": {},
   "outputs": [
    {
     "name": "stdout",
     "output_type": "stream",
     "text": [
      "0.8244832775406161 0.825563540323076\n"
     ]
    }
   ],
   "source": [
    "print(train_accuracy,test_accuracy)"
   ]
  }
 ],
 "metadata": {
  "kernelspec": {
   "display_name": "Python 3",
   "language": "python",
   "name": "python3"
  },
  "language_info": {
   "codemirror_mode": {
    "name": "ipython",
    "version": 3
   },
   "file_extension": ".py",
   "mimetype": "text/x-python",
   "name": "python",
   "nbconvert_exporter": "python",
   "pygments_lexer": "ipython3",
   "version": "3.7.4"
  }
 },
 "nbformat": 4,
 "nbformat_minor": 4
}
